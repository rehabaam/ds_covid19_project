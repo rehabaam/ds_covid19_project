{
 "cells": [
  {
   "cell_type": "markdown",
   "metadata": {},
   "source": [
    "# Preparing dataset\n",
    "This notebook is intended to download the dataset from the source and prepare it for exploration."
   ]
  },
  {
   "cell_type": "markdown",
   "metadata": {},
   "source": [
    "### Downloading COVID dataset"
   ]
  },
  {
   "cell_type": "markdown",
   "metadata": {},
   "source": [
    "Download the data from `Kaggle` using KaggleHub library."
   ]
  },
  {
   "cell_type": "code",
   "execution_count": 1,
   "metadata": {},
   "outputs": [
    {
     "name": "stderr",
     "output_type": "stream",
     "text": [
      "/Users/rehabaam/codes/python/datascientest/project/ds_covid19_project/.ds_covid19/lib/python3.12/site-packages/tqdm/auto.py:21: TqdmWarning: IProgress not found. Please update jupyter and ipywidgets. See https://ipywidgets.readthedocs.io/en/stable/user_install.html\n",
      "  from .autonotebook import tqdm as notebook_tqdm\n"
     ]
    },
    {
     "name": "stdout",
     "output_type": "stream",
     "text": [
      "Downloading from https://www.kaggle.com/api/v1/datasets/download/tawsifurrahman/covid19-radiography-database?dataset_version_number=5...\n"
     ]
    },
    {
     "name": "stderr",
     "output_type": "stream",
     "text": [
      "100%|██████████| 778M/778M [00:26<00:00, 30.7MB/s] "
     ]
    },
    {
     "name": "stdout",
     "output_type": "stream",
     "text": [
      "Extracting files...\n"
     ]
    },
    {
     "name": "stderr",
     "output_type": "stream",
     "text": [
      "\n"
     ]
    },
    {
     "name": "stdout",
     "output_type": "stream",
     "text": [
      "Path to dataset files: /Users/rehabaam/.cache/kagglehub/datasets/tawsifurrahman/covid19-radiography-database/versions/5\n"
     ]
    }
   ],
   "source": [
    "import kagglehub\n",
    "\n",
    "# Download latest version\n",
    "path = kagglehub.dataset_download(\"tawsifurrahman/covid19-radiography-database\")\n",
    "\n",
    "print(\"Path to dataset files:\", path)"
   ]
  },
  {
   "cell_type": "markdown",
   "metadata": {},
   "source": [
    "Copy all files from cache folder to `data/raw` folder."
   ]
  },
  {
   "cell_type": "code",
   "execution_count": 2,
   "metadata": {},
   "outputs": [
    {
     "data": {
      "text/plain": [
       "'../data/raw'"
      ]
     },
     "execution_count": 2,
     "metadata": {},
     "output_type": "execute_result"
    }
   ],
   "source": [
    "import shutil\n",
    "import os\n",
    "\n",
    "# Raw data directory\n",
    "raw_data_dir = '../data/raw'\n",
    "\n",
    "# Remove existing raw data directory\n",
    "if os.path.exists(raw_data_dir):\n",
    "    shutil.rmtree(raw_data_dir)\n",
    "\n",
    "# Files are in a subdirectory, so copy all files to data/raw\n",
    "files = os.listdir(path)\n",
    "\n",
    "shutil.copytree(path, '../data/raw')"
   ]
  },
  {
   "cell_type": "markdown",
   "metadata": {},
   "source": [
    "Convert all excel sheets to CSV files. (*This is an optional step if you prefer working with excel sheets rather than CSV files.*)"
   ]
  },
  {
   "cell_type": "code",
   "execution_count": 3,
   "metadata": {},
   "outputs": [
    {
     "name": "stdout",
     "output_type": "stream",
     "text": [
      "Converted Lung_Opacity.metadata.xlsx - to Lung_Opacity.metadata.csv\n",
      "Lung_Opacity.metadata.xlsx has been removed\n",
      "Converted Viral Pneumonia.metadata.xlsx - to Viral Pneumonia.metadata.csv\n",
      "Viral Pneumonia.metadata.xlsx has been removed\n",
      "Converted COVID.metadata.xlsx - to COVID.metadata.csv\n",
      "COVID.metadata.xlsx has been removed\n",
      "Converted Normal.metadata.xlsx - to Normal.metadata.csv\n",
      "Normal.metadata.xlsx has been removed\n"
     ]
    }
   ],
   "source": [
    "import pandas as pd\n",
    "import os\n",
    "\n",
    "# Define the path to the folder containing the Excel files\n",
    "excel_folder_path = '../data/raw/COVID-19_Radiography_Dataset'\n",
    "\n",
    "# List all files in the folder\n",
    "excel_files = [f for f in os.listdir(excel_folder_path) if f.endswith('.xlsx') or f.endswith('.xls')]\n",
    "\n",
    "# Convert each Excel file to CSV\n",
    "for excel_file in excel_files:\n",
    "    excel_path = os.path.join(excel_folder_path, excel_file)\n",
    "    xls = pd.ExcelFile(excel_path)\n",
    "    for sheet_name in xls.sheet_names:\n",
    "        df = pd.read_excel(xls, sheet_name=sheet_name)\n",
    "        csv_file_name = f\"{os.path.splitext(excel_file)[0]}.csv\"\n",
    "        csv_path = os.path.join(excel_folder_path, csv_file_name)\n",
    "        df.to_csv(csv_path, index=False)\n",
    "        print(f\"Converted {excel_file} - to {csv_file_name}\")\n",
    "        os.remove(excel_path)\n",
    "        print(f\"{excel_file} has been removed\")"
   ]
  }
 ],
 "metadata": {
  "kernelspec": {
   "display_name": ".ds_covid19",
   "language": "python",
   "name": "python3"
  },
  "language_info": {
   "codemirror_mode": {
    "name": "ipython",
    "version": 3
   },
   "file_extension": ".py",
   "mimetype": "text/x-python",
   "name": "python",
   "nbconvert_exporter": "python",
   "pygments_lexer": "ipython3",
   "version": "3.12.8"
  }
 },
 "nbformat": 4,
 "nbformat_minor": 2
}
