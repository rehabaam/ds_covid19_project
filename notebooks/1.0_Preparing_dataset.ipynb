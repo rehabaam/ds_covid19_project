{
 "cells": [
  {
   "cell_type": "markdown",
   "metadata": {},
   "source": [
    "# Preparing dataset\n",
    "This notebook is intended to download the dataset from the source and prepare it for exploration."
   ]
  },
  {
   "cell_type": "markdown",
   "metadata": {},
   "source": [
    "### Downloading COVID dataset"
   ]
  },
  {
   "cell_type": "markdown",
   "metadata": {},
   "source": [
    "Download the data from `Kaggle` using KaggleHub library."
   ]
  },
  {
   "cell_type": "code",
   "execution_count": 1,
   "metadata": {},
   "outputs": [],
   "source": [
    "# Auto reload modules\n",
    "%load_ext autoreload\n",
    "%autoreload 2"
   ]
  },
  {
   "cell_type": "code",
   "execution_count": 2,
   "metadata": {},
   "outputs": [
    {
     "name": "stderr",
     "output_type": "stream",
     "text": [
      "/Users/rehabaam/codes/python/datascientest/project/ds_covid19_project/.ds_covid19/lib/python3.12/site-packages/tqdm/auto.py:21: TqdmWarning: IProgress not found. Please update jupyter and ipywidgets. See https://ipywidgets.readthedocs.io/en/stable/user_install.html\n",
      "  from .autonotebook import tqdm as notebook_tqdm\n"
     ]
    },
    {
     "name": "stdout",
     "output_type": "stream",
     "text": [
      "Warning: Looks like you're using an outdated `kagglehub` version (installed: 0.3.5), please consider upgrading to the latest version (0.3.10).\n",
      "Path to dataset files: /Users/rehabaam/.cache/kagglehub/datasets/tawsifurrahman/covid19-radiography-database/versions/5\n"
     ]
    }
   ],
   "source": [
    "import kagglehub\n",
    "\n",
    "# Download latest version\n",
    "path = kagglehub.dataset_download(\"tawsifurrahman/covid19-radiography-database\")\n",
    "\n",
    "print(\"Path to dataset files:\", path)"
   ]
  },
  {
   "cell_type": "code",
   "execution_count": 3,
   "metadata": {},
   "outputs": [],
   "source": [
    "import sys\n",
    "sys.path.append(\"../\")"
   ]
  },
  {
   "cell_type": "code",
   "execution_count": 4,
   "metadata": {},
   "outputs": [],
   "source": [
    "from src.common.dataset_manager import copy_raw_data, convert_excel_to_csv, create_class_folders, move_files_to_class_folders\n",
    "\n",
    "# Folders to store the data\n",
    "raw_data_dir = '../data/raw'\n",
    "old_data_dir = '../data/raw/COVID-19_Radiography_Dataset'\n",
    "new_data_dir = '../data/raw/dataset'"
   ]
  },
  {
   "cell_type": "markdown",
   "metadata": {},
   "source": [
    "Copy all files from cache folder to `data/raw` folder."
   ]
  },
  {
   "cell_type": "code",
   "execution_count": 5,
   "metadata": {},
   "outputs": [],
   "source": [
    "copy_raw_data(path, raw_data_dir)"
   ]
  },
  {
   "cell_type": "markdown",
   "metadata": {},
   "source": [
    "Convert all excel sheets to CSV files. (*This is an optional step if you prefer working with excel sheets rather than CSV files.*)"
   ]
  },
  {
   "cell_type": "code",
   "execution_count": 6,
   "metadata": {},
   "outputs": [
    {
     "name": "stdout",
     "output_type": "stream",
     "text": [
      "Converted Lung_Opacity.metadata.xlsx - to Lung_Opacity.metadata.csv\n",
      "Lung_Opacity.metadata.xlsx has been removed\n",
      "Converted Viral Pneumonia.metadata.xlsx - to Viral Pneumonia.metadata.csv\n",
      "Viral Pneumonia.metadata.xlsx has been removed\n",
      "Converted COVID.metadata.xlsx - to COVID.metadata.csv\n",
      "COVID.metadata.xlsx has been removed\n",
      "Converted Normal.metadata.xlsx - to Normal.metadata.csv\n",
      "Normal.metadata.xlsx has been removed\n"
     ]
    }
   ],
   "source": [
    "convert_excel_to_csv(old_data_dir)"
   ]
  },
  {
   "cell_type": "markdown",
   "metadata": {},
   "source": [
    "### Simplify the folders stucture for future use of *ImageDataGenerator* library"
   ]
  },
  {
   "cell_type": "markdown",
   "metadata": {},
   "source": [
    "1. Get the image categories and classes"
   ]
  },
  {
   "cell_type": "code",
   "execution_count": 7,
   "metadata": {},
   "outputs": [
    {
     "name": "stdout",
     "output_type": "stream",
     "text": [
      "Found 4 classes: ['Viral Pneumonia', 'Lung_Opacity', 'Normal', 'COVID']\n",
      "Found 2 categories: ['images', 'masks']\n"
     ]
    }
   ],
   "source": [
    "import os\n",
    "\n",
    "folders = [x[1] for x in os.walk(old_data_dir, topdown=True)]\n",
    "classes = folders[0]\n",
    "categories = folders[1]\n",
    "\n",
    "print(f\"Found {len(classes)} classes: {classes}\")\n",
    "print(f\"Found {len(categories)} categories: {categories}\")"
   ]
  },
  {
   "cell_type": "markdown",
   "metadata": {},
   "source": [
    "2. Create a new dataset folder with *dataset* name and create the categoies and classes under it"
   ]
  },
  {
   "cell_type": "code",
   "execution_count": 8,
   "metadata": {},
   "outputs": [
    {
     "name": "stdout",
     "output_type": "stream",
     "text": [
      "Creating directory '../data/raw/dataset/images/Viral Pneumonia'...\n",
      "Directory '../data/raw/dataset/images/Viral Pneumonia' created successfully.\n",
      "Creating directory '../data/raw/dataset/images/Lung_Opacity'...\n",
      "Directory '../data/raw/dataset/images/Lung_Opacity' created successfully.\n",
      "Creating directory '../data/raw/dataset/images/Normal'...\n",
      "Directory '../data/raw/dataset/images/Normal' created successfully.\n",
      "Creating directory '../data/raw/dataset/images/COVID'...\n",
      "Directory '../data/raw/dataset/images/COVID' created successfully.\n",
      "Creating directory '../data/raw/dataset/masks/Viral Pneumonia'...\n",
      "Directory '../data/raw/dataset/masks/Viral Pneumonia' created successfully.\n",
      "Creating directory '../data/raw/dataset/masks/Lung_Opacity'...\n",
      "Directory '../data/raw/dataset/masks/Lung_Opacity' created successfully.\n",
      "Creating directory '../data/raw/dataset/masks/Normal'...\n",
      "Directory '../data/raw/dataset/masks/Normal' created successfully.\n",
      "Creating directory '../data/raw/dataset/masks/COVID'...\n",
      "Directory '../data/raw/dataset/masks/COVID' created successfully.\n"
     ]
    }
   ],
   "source": [
    "create_class_folders(new_data_dir, categories, classes)"
   ]
  },
  {
   "cell_type": "markdown",
   "metadata": {},
   "source": [
    "3. Move the images to the newly created folders"
   ]
  },
  {
   "cell_type": "code",
   "execution_count": 9,
   "metadata": {},
   "outputs": [
    {
     "name": "stdout",
     "output_type": "stream",
     "text": [
      "Files copied successfully.\n",
      "Number of files: 1345 from '../data/raw/COVID-19_Radiography_Dataset/Viral Pneumonia/images' to '../data/raw/dataset/images/Viral Pneumonia'...\n",
      "Files copied successfully.\n",
      "Number of files: 6012 from '../data/raw/COVID-19_Radiography_Dataset/Lung_Opacity/images' to '../data/raw/dataset/images/Lung_Opacity'...\n",
      "Files copied successfully.\n",
      "Number of files: 10192 from '../data/raw/COVID-19_Radiography_Dataset/Normal/images' to '../data/raw/dataset/images/Normal'...\n",
      "Files copied successfully.\n",
      "Number of files: 3616 from '../data/raw/COVID-19_Radiography_Dataset/COVID/images' to '../data/raw/dataset/images/COVID'...\n",
      "Files copied successfully.\n",
      "Number of files: 1345 from '../data/raw/COVID-19_Radiography_Dataset/Viral Pneumonia/masks' to '../data/raw/dataset/masks/Viral Pneumonia'...\n",
      "Files copied successfully.\n",
      "Number of files: 6012 from '../data/raw/COVID-19_Radiography_Dataset/Lung_Opacity/masks' to '../data/raw/dataset/masks/Lung_Opacity'...\n",
      "Files copied successfully.\n",
      "Number of files: 10192 from '../data/raw/COVID-19_Radiography_Dataset/Normal/masks' to '../data/raw/dataset/masks/Normal'...\n",
      "Files copied successfully.\n",
      "Number of files: 3616 from '../data/raw/COVID-19_Radiography_Dataset/COVID/masks' to '../data/raw/dataset/masks/COVID'...\n"
     ]
    }
   ],
   "source": [
    "move_files_to_class_folders(old_data_dir, new_data_dir, categories, classes)"
   ]
  }
 ],
 "metadata": {
  "kernelspec": {
   "display_name": ".ds_covid19",
   "language": "python",
   "name": "python3"
  },
  "language_info": {
   "codemirror_mode": {
    "name": "ipython",
    "version": 3
   },
   "file_extension": ".py",
   "mimetype": "text/x-python",
   "name": "python",
   "nbconvert_exporter": "python",
   "pygments_lexer": "ipython3",
   "version": "3.12.8"
  }
 },
 "nbformat": 4,
 "nbformat_minor": 2
}
