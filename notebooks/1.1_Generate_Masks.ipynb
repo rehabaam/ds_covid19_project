{
 "cells": [
  {
   "cell_type": "code",
   "execution_count": 1,
   "id": "4ff4249d",
   "metadata": {},
   "outputs": [],
   "source": [
    "# Auto reload modules\n",
    "%load_ext autoreload\n",
    "%autoreload 2"
   ]
  },
  {
   "cell_type": "code",
   "execution_count": 2,
   "id": "3357ef6f",
   "metadata": {},
   "outputs": [],
   "source": [
    "import sys\n",
    "sys.path.append(\"../\")"
   ]
  },
  {
   "cell_type": "markdown",
   "id": "bbcabd41",
   "metadata": {},
   "source": [
    "Lung segmentation model source: https://huggingface.co/maja011235/lung-segmentation-gan"
   ]
  },
  {
   "cell_type": "code",
   "execution_count": 3,
   "id": "dff5e544",
   "metadata": {},
   "outputs": [],
   "source": [
    "from src.preprocessing.masks_generator import generate_masks\n",
    "from tensorflow.keras.models import load_model\n",
    "\n",
    "# Available categories in the dataset\n",
    "dataset = ['COVID','NORMAL','Viral Pneumonia','Lung_Opacity']\n",
    "\n",
    "images_data_dir = '../data/raw/dataset/images/'\n",
    "masks_data_dir = '../data/raw/dataset/predicted_masks/'\n",
    "\n",
    "model_path = '../references/lung-segmentation-gan.h5'"
   ]
  },
  {
   "cell_type": "code",
   "execution_count": null,
   "id": "b79637d9",
   "metadata": {},
   "outputs": [],
   "source": [
    "# Load the pre-trained model\n",
    "model = load_model(model_path, compile=False)"
   ]
  },
  {
   "cell_type": "code",
   "execution_count": null,
   "id": "277e3934",
   "metadata": {},
   "outputs": [],
   "source": [
    "\n",
    "for i in dataset:\n",
    "    print(f\"Generating masks for {i} category...\")\n",
    "    generate_masks(images_data_dir+i, masks_data_dir+i, model, target_size=(256, 256))"
   ]
  }
 ],
 "metadata": {
  "kernelspec": {
   "display_name": "ds_covid19",
   "language": "python",
   "name": "ds_covid19"
  },
  "language_info": {
   "codemirror_mode": {
    "name": "ipython",
    "version": 3
   },
   "file_extension": ".py",
   "mimetype": "text/x-python",
   "name": "python",
   "nbconvert_exporter": "python",
   "pygments_lexer": "ipython3",
   "version": "3.12.8"
  }
 },
 "nbformat": 4,
 "nbformat_minor": 5
}
