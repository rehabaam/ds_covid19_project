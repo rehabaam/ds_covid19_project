{
 "cells": [
  {
   "cell_type": "markdown",
   "metadata": {},
   "source": [
    "## Supervised models\n",
    "This notebook is intended for giving an introduction the ML supervised models that can be used for Covid detection."
   ]
  },
  {
   "cell_type": "markdown",
   "metadata": {},
   "source": [
    "For this notebook to find the new modules created for this project, we need to set its path to be in the root directory."
   ]
  },
  {
   "cell_type": "code",
   "execution_count": 1,
   "metadata": {},
   "outputs": [],
   "source": [
    "import sys\n",
    "sys.path.append(\"../\")"
   ]
  },
  {
   "cell_type": "markdown",
   "metadata": {},
   "source": [
    "## Loading packages and dependencies"
   ]
  },
  {
   "cell_type": "code",
   "execution_count": 2,
   "metadata": {},
   "outputs": [],
   "source": [
    "import numpy as np\n",
    "\n",
    "from src.features.extract_features import load_extracted_features\n",
    "from sklearn.model_selection import train_test_split\n",
    "from sklearn.preprocessing import StandardScaler\n",
    "from src.models.build_model import train_basic_supervised_model, evaluate_model\n",
    "\n",
    "\n",
    "# Path to the raw data and preprocessed data\n",
    "raw_data_dir = '../data/raw/COVID-19_Radiography_Dataset/'"
   ]
  },
  {
   "cell_type": "markdown",
   "metadata": {},
   "source": [
    "## Extracting features from images"
   ]
  },
  {
   "cell_type": "code",
   "execution_count": 3,
   "metadata": {},
   "outputs": [
    {
     "name": "stdout",
     "output_type": "stream",
     "text": [
      "Loaded images for NORMAL: 0 resized images, 10192 features, and 10192 labels.\n",
      "Loaded images for ['COVID', 'Viral Pneumonia', 'Lung_Opacity']: 0 resized images, 10973 features, and 10973 labels.\n"
     ]
    }
   ],
   "source": [
    "X_healthy, y_healthy, _ = load_extracted_features(raw_data_dir+'{}/images','NORMAL', 0)\n",
    "X_sick, y_sick, _ = load_extracted_features(raw_data_dir+'{}/images',['COVID','Viral Pneumonia','Lung_Opacity'], 1)"
   ]
  },
  {
   "cell_type": "markdown",
   "metadata": {},
   "source": [
    "## Normalizing features"
   ]
  },
  {
   "cell_type": "code",
   "execution_count": 4,
   "metadata": {},
   "outputs": [
    {
     "name": "stdout",
     "output_type": "stream",
     "text": [
      "X_train shape: (16932, 14), y_train shape: (16932,)\n",
      "X_test shape: (4233, 14), y_test shape: (4233,)\n"
     ]
    }
   ],
   "source": [
    "# Combine datasets\n",
    "X = np.vstack((X_healthy, X_sick))\n",
    "y = np.concatenate((y_healthy, y_sick))\n",
    "\n",
    "X_train, X_test, y_train, y_test = train_test_split(X, y, test_size=0.2, random_state=42)\n",
    "print(f\"X_train shape: {X_train.shape}, y_train shape: {y_train.shape}\")\n",
    "print(f\"X_test shape: {X_test.shape}, y_test shape: {y_test.shape}\")\n",
    "\n",
    "# Normalize features\n",
    "scaler = StandardScaler()\n",
    "X_train = scaler.fit_transform(X_train)\n",
    "X_test = scaler.transform(X_test)"
   ]
  },
  {
   "cell_type": "markdown",
   "metadata": {},
   "source": [
    "## Training and evaluating models"
   ]
  },
  {
   "cell_type": "markdown",
   "metadata": {},
   "source": [
    "### Logistic regression"
   ]
  },
  {
   "cell_type": "markdown",
   "metadata": {},
   "source": [
    "✅ Strengths:\n",
    "* Simple, fast, and interpretable.\n",
    "* Works well when features are linearly separable.\n",
    "\n",
    "❌ Weaknesses:\n",
    "* Struggles with complex, non-linear relationships.\n",
    "* Sensitive to outliers."
   ]
  },
  {
   "cell_type": "code",
   "execution_count": 5,
   "metadata": {},
   "outputs": [
    {
     "name": "stdout",
     "output_type": "stream",
     "text": [
      "Classification Accuracy: 0.7413\n",
      "Classification Report:\n",
      "               precision    recall  f1-score   support\n",
      "\n",
      "           0       0.75      0.70      0.72      2056\n",
      "           1       0.73      0.78      0.76      2177\n",
      "\n",
      "    accuracy                           0.74      4233\n",
      "   macro avg       0.74      0.74      0.74      4233\n",
      "weighted avg       0.74      0.74      0.74      4233\n",
      "\n"
     ]
    }
   ],
   "source": [
    "model = train_basic_supervised_model(X_train, y_train, model_type='Logistic Regression')\n",
    "\n",
    "accuracy_score, report = evaluate_model(model, X_test, y_test, model_type='Logistic Regression')\n",
    "print(f\"Classification Accuracy: {accuracy_score:.4f}\")\n",
    "print(\"Classification Report:\\n\", report)"
   ]
  },
  {
   "cell_type": "markdown",
   "metadata": {},
   "source": [
    "### SVM"
   ]
  },
  {
   "cell_type": "markdown",
   "metadata": {},
   "source": [
    "✅ Strengths:\n",
    "\n",
    "* Works well on high-dimensional data.\n",
    "* Effective on small datasets.\n",
    "* Handles outliers better than logistic regression.\n",
    "\n",
    "❌ Weaknesses:\n",
    "\n",
    "* Slow on large datasets (especially with RBF kernel).\n",
    "* Sensitive to hyperparameters (C, γ, degree).\n",
    "* Difficult to interpret compared to logistic regression."
   ]
  },
  {
   "cell_type": "markdown",
   "metadata": {},
   "source": [
    "#### RBF kernel"
   ]
  },
  {
   "cell_type": "code",
   "execution_count": 6,
   "metadata": {},
   "outputs": [
    {
     "name": "stdout",
     "output_type": "stream",
     "text": [
      "Classification Accuracy: 0.8146\n",
      "Classification Report:\n",
      "               precision    recall  f1-score   support\n",
      "\n",
      "           0       0.82      0.79      0.80      2056\n",
      "           1       0.81      0.84      0.82      2177\n",
      "\n",
      "    accuracy                           0.81      4233\n",
      "   macro avg       0.82      0.81      0.81      4233\n",
      "weighted avg       0.81      0.81      0.81      4233\n",
      "\n"
     ]
    }
   ],
   "source": [
    "model = train_basic_supervised_model(X_train, y_train, model_type='SVM RBF')\n",
    "\n",
    "accuracy_score, report = evaluate_model(model, X_test, y_test, model_type='SVM')\n",
    "print(f\"Classification Accuracy: {accuracy_score:.4f}\")\n",
    "print(\"Classification Report:\\n\", report)"
   ]
  },
  {
   "cell_type": "markdown",
   "metadata": {},
   "source": [
    "#### Linear kernel"
   ]
  },
  {
   "cell_type": "code",
   "execution_count": 7,
   "metadata": {},
   "outputs": [
    {
     "name": "stdout",
     "output_type": "stream",
     "text": [
      "Classification Accuracy: 0.7470\n",
      "Classification Report:\n",
      "               precision    recall  f1-score   support\n",
      "\n",
      "           0       0.77      0.68      0.72      2056\n",
      "           1       0.73      0.81      0.77      2177\n",
      "\n",
      "    accuracy                           0.75      4233\n",
      "   macro avg       0.75      0.75      0.75      4233\n",
      "weighted avg       0.75      0.75      0.75      4233\n",
      "\n"
     ]
    }
   ],
   "source": [
    "model = train_basic_supervised_model(X_train, y_train, model_type='SVM Linear')\n",
    "\n",
    "accuracy_score, report = evaluate_model(model, X_test, y_test, model_type='SVM')\n",
    "print(f\"Classification Accuracy: {accuracy_score:.4f}\")\n",
    "print(\"Classification Report:\\n\", report)"
   ]
  },
  {
   "cell_type": "markdown",
   "metadata": {},
   "source": [
    "### Linear Regression"
   ]
  },
  {
   "cell_type": "markdown",
   "metadata": {},
   "source": [
    "✅ Strengths\n",
    "* Simple and Fast – Easy to implement and interpret.\n",
    "* Works Well for Linearly Related Data.\n",
    "* Low Computational Cost – Efficient on small datasets.\n",
    "\n",
    "❌ Weaknesses\n",
    "* Assumes a Linear Relationship – Struggles with non-linear patterns.\n",
    "* Sensitive to Outliers – A few extreme values can skew results.\n",
    "* Multicollinearity Issues – Highly correlated features can reduce accuracy."
   ]
  },
  {
   "cell_type": "code",
   "execution_count": 8,
   "metadata": {},
   "outputs": [
    {
     "name": "stdout",
     "output_type": "stream",
     "text": [
      "Mean Squared Error (MSE): 0.2592\n",
      "R-squared (R²) Score: -0.0375\n",
      "Classification Accuracy: 0.7408\n",
      "Classification Report:\n",
      "               precision    recall  f1-score   support\n",
      "\n",
      "           0       0.75      0.70      0.72      2056\n",
      "           1       0.73      0.78      0.76      2177\n",
      "\n",
      "    accuracy                           0.74      4233\n",
      "   macro avg       0.74      0.74      0.74      4233\n",
      "weighted avg       0.74      0.74      0.74      4233\n",
      "\n"
     ]
    }
   ],
   "source": [
    "model = train_basic_supervised_model(X_train, y_train, model_type='Linear Regression')\n",
    "\n",
    "accuracy_score, report = evaluate_model(model, X_test, y_test, model_type='Linear Regression')\n",
    "print(f\"Classification Accuracy: {accuracy_score:.4f}\")\n",
    "print(\"Classification Report:\\n\", report)"
   ]
  },
  {
   "cell_type": "markdown",
   "metadata": {},
   "source": [
    "### Random Forest"
   ]
  },
  {
   "cell_type": "markdown",
   "metadata": {},
   "source": [
    "✅ Strengths\n",
    "* High Accuracy – Performs well on complex datasets.\n",
    "* Robust to Noise – Handles missing data and outliers well.\n",
    "* Works with Categorical & Numerical Features.\n",
    "\n",
    "❌ Weaknesses\n",
    "* Slow on Large Datasets – Many trees increase computation time.\n",
    "* Less Interpretable – Harder to understand than Logistic Regression.\n",
    "* Memory Intensive – Requires more RAM compared to simpler models."
   ]
  },
  {
   "cell_type": "code",
   "execution_count": 9,
   "metadata": {},
   "outputs": [
    {
     "name": "stdout",
     "output_type": "stream",
     "text": [
      "Classification Accuracy: 0.8157\n",
      "Classification Report:\n",
      "               precision    recall  f1-score   support\n",
      "\n",
      "           0       0.82      0.79      0.81      2056\n",
      "           1       0.81      0.84      0.82      2177\n",
      "\n",
      "    accuracy                           0.82      4233\n",
      "   macro avg       0.82      0.81      0.82      4233\n",
      "weighted avg       0.82      0.82      0.82      4233\n",
      "\n"
     ]
    }
   ],
   "source": [
    "model = train_basic_supervised_model(X_train, y_train, model_type='Random Forest')\n",
    "\n",
    "accuracy_score, report = evaluate_model(model, X_test, y_test, model_type='Random Forest')\n",
    "print(f\"Classification Accuracy: {accuracy_score:.4f}\")\n",
    "print(\"Classification Report:\\n\", report)"
   ]
  }
 ],
 "metadata": {
  "kernelspec": {
   "display_name": "ds_covid19",
   "language": "python",
   "name": "ds_covid19"
  },
  "language_info": {
   "codemirror_mode": {
    "name": "ipython",
    "version": 3
   },
   "file_extension": ".py",
   "mimetype": "text/x-python",
   "name": "python",
   "nbconvert_exporter": "python",
   "pygments_lexer": "ipython3",
   "version": "3.12.8"
  }
 },
 "nbformat": 4,
 "nbformat_minor": 2
}
