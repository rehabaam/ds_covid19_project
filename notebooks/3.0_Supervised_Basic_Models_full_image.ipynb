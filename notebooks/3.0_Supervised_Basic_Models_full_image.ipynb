{
 "cells": [
  {
   "cell_type": "markdown",
   "metadata": {},
   "source": [
    "## Supervised models\n",
    "This notebook is intended for giving an introduction the ML supervised models that can be used for Covid detection."
   ]
  },
  {
   "cell_type": "markdown",
   "metadata": {},
   "source": [
    "For this notebook to find the new modules created for this project, we need to set its path to be in the root directory."
   ]
  },
  {
   "cell_type": "code",
   "execution_count": 1,
   "metadata": {},
   "outputs": [],
   "source": [
    "# Auto reload modules\n",
    "%load_ext autoreload\n",
    "%autoreload 2"
   ]
  },
  {
   "cell_type": "code",
   "execution_count": 2,
   "metadata": {},
   "outputs": [],
   "source": [
    "import sys\n",
    "sys.path.append(\"../\")"
   ]
  },
  {
   "cell_type": "markdown",
   "metadata": {},
   "source": [
    "## Loading packages and dependencies"
   ]
  },
  {
   "cell_type": "code",
   "execution_count": 3,
   "metadata": {},
   "outputs": [],
   "source": [
    "import numpy as np\n",
    "\n",
    "from src.features.extract_features import load_extracted_features\n",
    "from sklearn.model_selection import train_test_split\n",
    "from sklearn.preprocessing import StandardScaler\n",
    "from src.models.build_model import train_basic_supervised_model, evaluate_model\n",
    "\n",
    "\n",
    "# Path to the raw data and preprocessed data\n",
    "raw_data_dir = '../data/raw/COVID-19_Radiography_Dataset/'"
   ]
  },
  {
   "cell_type": "markdown",
   "metadata": {},
   "source": [
    "## Extracting features from images"
   ]
  },
  {
   "cell_type": "code",
   "execution_count": 4,
   "metadata": {},
   "outputs": [
    {
     "name": "stdout",
     "output_type": "stream",
     "text": [
      "Loaded images for NORMAL: 10973 resized images, 10973 features, and 10973 labels.\n",
      "Loaded images for ['COVID', 'Viral Pneumonia', 'Lung_Opacity']: 10973 resized images, 10973 features, and 10973 labels.\n"
     ]
    }
   ],
   "source": [
    "X_healthy, y_healthy, _ = load_extracted_features(images_dir=raw_data_dir+'{}/images',\n",
    "                                                       category='NORMAL', dataset_label=0, random_seed=42, samples=781, augmentor=True)\n",
    "X_sick, y_sick, _ = load_extracted_features(images_dir=raw_data_dir+'{}/images',\n",
    "                                            category=['COVID','Viral Pneumonia','Lung_Opacity'], dataset_label=1)"
   ]
  },
  {
   "cell_type": "markdown",
   "metadata": {},
   "source": [
    "## Normalizing features"
   ]
  },
  {
   "cell_type": "code",
   "execution_count": 5,
   "metadata": {},
   "outputs": [
    {
     "name": "stdout",
     "output_type": "stream",
     "text": [
      "X_train shape: (17556, 14), y_train shape: (17556,)\n",
      "X_test shape: (4390, 14), y_test shape: (4390,)\n"
     ]
    }
   ],
   "source": [
    "# Combine datasets\n",
    "X = np.vstack((X_healthy, X_sick))\n",
    "y = np.concatenate((y_healthy, y_sick))\n",
    "\n",
    "X_train, X_test, y_train, y_test = train_test_split(X, y, test_size=0.2, random_state=42)\n",
    "print(f\"X_train shape: {X_train.shape}, y_train shape: {y_train.shape}\")\n",
    "print(f\"X_test shape: {X_test.shape}, y_test shape: {y_test.shape}\")\n",
    "\n",
    "# Normalize features\n",
    "scaler = StandardScaler()\n",
    "X_train = scaler.fit_transform(X_train)\n",
    "X_test = scaler.transform(X_test)"
   ]
  },
  {
   "cell_type": "markdown",
   "metadata": {},
   "source": [
    "## Training and evaluating models"
   ]
  },
  {
   "cell_type": "markdown",
   "metadata": {},
   "source": [
    "### Logistic regression"
   ]
  },
  {
   "cell_type": "markdown",
   "metadata": {},
   "source": [
    "✅ Strengths:\n",
    "* Simple, fast, and interpretable.\n",
    "* Works well when features are linearly separable.\n",
    "\n",
    "❌ Weaknesses:\n",
    "* Struggles with complex, non-linear relationships.\n",
    "* Sensitive to outliers."
   ]
  },
  {
   "cell_type": "code",
   "execution_count": 7,
   "metadata": {},
   "outputs": [
    {
     "name": "stderr",
     "output_type": "stream",
     "text": [
      "2025/03/02 14:55:18 INFO mlflow.tracking.fluent: Experiment with name 'Basic Supervised Models' does not exist. Creating a new experiment.\n",
      "Successfully registered model 'sklearn-Logistic Regression-2025-03-02'.\n",
      "2025/03/02 14:55:24 INFO mlflow.store.model_registry.abstract_store: Waiting up to 300 seconds for model version to finish creation. Model name: sklearn-Logistic Regression-2025-03-02, version 1\n"
     ]
    },
    {
     "name": "stdout",
     "output_type": "stream",
     "text": [
      "🏃 View run Logistic Regression-2025-03-02 14:55:18.392808 at: http://localhost:8080/#/experiments/747560239450198032/runs/92decb4e97e2485282012c92c047f870\n",
      "🧪 View experiment at: http://localhost:8080/#/experiments/747560239450198032\n",
      "Classification Accuracy: 0.7264\n",
      "Classification Report:\n",
      "               precision    recall  f1-score   support\n",
      "\n",
      "           0       0.73      0.72      0.73      2204\n",
      "           1       0.72      0.73      0.73      2186\n",
      "\n",
      "    accuracy                           0.73      4390\n",
      "   macro avg       0.73      0.73      0.73      4390\n",
      "weighted avg       0.73      0.73      0.73      4390\n",
      "\n"
     ]
    },
    {
     "name": "stderr",
     "output_type": "stream",
     "text": [
      "Created version '1' of model 'sklearn-Logistic Regression-2025-03-02'.\n"
     ]
    }
   ],
   "source": [
    "model = train_basic_supervised_model(X_train, y_train, model_type='Logistic Regression')\n",
    "\n",
    "accuracy_score, report = evaluate_model(\"Binary classification [Normal, Others] for images without masks\", model, X_test, y_test, model_type='Logistic Regression')\n",
    "\n",
    "print(f\"Classification Accuracy: {accuracy_score:.4f}\")\n",
    "print(\"Classification Report:\\n\", report)"
   ]
  },
  {
   "cell_type": "markdown",
   "metadata": {},
   "source": [
    "### SVM"
   ]
  },
  {
   "cell_type": "markdown",
   "metadata": {},
   "source": [
    "✅ Strengths:\n",
    "\n",
    "* Works well on high-dimensional data.\n",
    "* Effective on small datasets.\n",
    "* Handles outliers better than logistic regression.\n",
    "\n",
    "❌ Weaknesses:\n",
    "\n",
    "* Slow on large datasets (especially with RBF kernel).\n",
    "* Sensitive to hyperparameters (C, γ, degree).\n",
    "* Difficult to interpret compared to logistic regression."
   ]
  },
  {
   "cell_type": "markdown",
   "metadata": {},
   "source": [
    "#### RBF kernel"
   ]
  },
  {
   "cell_type": "code",
   "execution_count": 8,
   "metadata": {},
   "outputs": [
    {
     "name": "stderr",
     "output_type": "stream",
     "text": [
      "Successfully registered model 'sklearn-SVM RBF-2025-03-02'.\n",
      "2025/03/02 14:56:07 INFO mlflow.store.model_registry.abstract_store: Waiting up to 300 seconds for model version to finish creation. Model name: sklearn-SVM RBF-2025-03-02, version 1\n"
     ]
    },
    {
     "name": "stdout",
     "output_type": "stream",
     "text": [
      "🏃 View run SVM RBF-2025-03-02 14:56:03.328186 at: http://localhost:8080/#/experiments/747560239450198032/runs/e0ceab257bd84fa483ad0c2fcd44af64\n",
      "🧪 View experiment at: http://localhost:8080/#/experiments/747560239450198032\n",
      "Classification Accuracy: 0.8043\n",
      "Classification Report:\n",
      "               precision    recall  f1-score   support\n",
      "\n",
      "           0       0.81      0.79      0.80      2204\n",
      "           1       0.80      0.81      0.81      2186\n",
      "\n",
      "    accuracy                           0.80      4390\n",
      "   macro avg       0.80      0.80      0.80      4390\n",
      "weighted avg       0.80      0.80      0.80      4390\n",
      "\n"
     ]
    },
    {
     "name": "stderr",
     "output_type": "stream",
     "text": [
      "Created version '1' of model 'sklearn-SVM RBF-2025-03-02'.\n"
     ]
    }
   ],
   "source": [
    "model = train_basic_supervised_model(X_train, y_train, model_type='SVM RBF')\n",
    "\n",
    "accuracy_score, report = evaluate_model(\"Binary classification [Normal, Others] for images without masks\", model, X_test, y_test, model_type='SVM RBF')\n",
    "\n",
    "print(f\"Classification Accuracy: {accuracy_score:.4f}\")\n",
    "print(\"Classification Report:\\n\", report)"
   ]
  },
  {
   "cell_type": "markdown",
   "metadata": {},
   "source": [
    "#### Linear kernel"
   ]
  },
  {
   "cell_type": "code",
   "execution_count": 9,
   "metadata": {},
   "outputs": [
    {
     "name": "stderr",
     "output_type": "stream",
     "text": [
      "Successfully registered model 'sklearn-SVM Linear-2025-03-02'.\n",
      "2025/03/02 14:56:34 INFO mlflow.store.model_registry.abstract_store: Waiting up to 300 seconds for model version to finish creation. Model name: sklearn-SVM Linear-2025-03-02, version 1\n"
     ]
    },
    {
     "name": "stdout",
     "output_type": "stream",
     "text": [
      "🏃 View run SVM Linear-2025-03-02 14:56:31.388497 at: http://localhost:8080/#/experiments/747560239450198032/runs/34edb7ca68fa42a8b0cc15642319e8ce\n",
      "🧪 View experiment at: http://localhost:8080/#/experiments/747560239450198032\n",
      "Classification Accuracy: 0.7305\n",
      "Classification Report:\n",
      "               precision    recall  f1-score   support\n",
      "\n",
      "           0       0.75      0.70      0.72      2204\n",
      "           1       0.72      0.76      0.74      2186\n",
      "\n",
      "    accuracy                           0.73      4390\n",
      "   macro avg       0.73      0.73      0.73      4390\n",
      "weighted avg       0.73      0.73      0.73      4390\n",
      "\n"
     ]
    },
    {
     "name": "stderr",
     "output_type": "stream",
     "text": [
      "Created version '1' of model 'sklearn-SVM Linear-2025-03-02'.\n"
     ]
    }
   ],
   "source": [
    "model = train_basic_supervised_model(X_train, y_train, model_type='SVM Linear')\n",
    "\n",
    "accuracy_score, report = evaluate_model(\"Binary classification [Normal, Others] for images without masks\", model, X_test, y_test, model_type='SVM Linear')\n",
    "\n",
    "print(f\"Classification Accuracy: {accuracy_score:.4f}\")\n",
    "print(\"Classification Report:\\n\", report)"
   ]
  },
  {
   "cell_type": "markdown",
   "metadata": {},
   "source": [
    "### Linear Regression"
   ]
  },
  {
   "cell_type": "markdown",
   "metadata": {},
   "source": [
    "✅ Strengths\n",
    "* Simple and Fast – Easy to implement and interpret.\n",
    "* Works Well for Linearly Related Data.\n",
    "* Low Computational Cost – Efficient on small datasets.\n",
    "\n",
    "❌ Weaknesses\n",
    "* Assumes a Linear Relationship – Struggles with non-linear patterns.\n",
    "* Sensitive to Outliers – A few extreme values can skew results.\n",
    "* Multicollinearity Issues – Highly correlated features can reduce accuracy."
   ]
  },
  {
   "cell_type": "code",
   "execution_count": 10,
   "metadata": {},
   "outputs": [
    {
     "name": "stderr",
     "output_type": "stream",
     "text": [
      "Successfully registered model 'sklearn-Linear Regression-2025-03-02'.\n",
      "2025/03/02 14:56:37 INFO mlflow.store.model_registry.abstract_store: Waiting up to 300 seconds for model version to finish creation. Model name: sklearn-Linear Regression-2025-03-02, version 1\n"
     ]
    },
    {
     "name": "stdout",
     "output_type": "stream",
     "text": [
      "🏃 View run Linear Regression-2025-03-02 14:56:34.609219 at: http://localhost:8080/#/experiments/747560239450198032/runs/540daf8f5e4b40b6879504cd86f20403\n",
      "🧪 View experiment at: http://localhost:8080/#/experiments/747560239450198032\n",
      "Classification Accuracy: 0.7244\n",
      "Classification Report:\n",
      "               precision    recall  f1-score   support\n",
      "\n",
      "           0       0.73      0.71      0.72      2204\n",
      "           1       0.72      0.73      0.73      2186\n",
      "\n",
      "    accuracy                           0.72      4390\n",
      "   macro avg       0.72      0.72      0.72      4390\n",
      "weighted avg       0.72      0.72      0.72      4390\n",
      "\n"
     ]
    },
    {
     "name": "stderr",
     "output_type": "stream",
     "text": [
      "Created version '1' of model 'sklearn-Linear Regression-2025-03-02'.\n"
     ]
    }
   ],
   "source": [
    "model = train_basic_supervised_model(X_train, y_train, model_type='Linear Regression')\n",
    "\n",
    "accuracy_score, report = evaluate_model(\"Binary classification [Normal, Others] for images without masks\", model, X_test, y_test, model_type='Linear Regression')\n",
    "\n",
    "print(f\"Classification Accuracy: {accuracy_score:.4f}\")\n",
    "print(\"Classification Report:\\n\", report)"
   ]
  },
  {
   "cell_type": "markdown",
   "metadata": {},
   "source": [
    "### Random Forest"
   ]
  },
  {
   "cell_type": "markdown",
   "metadata": {},
   "source": [
    "✅ Strengths\n",
    "* High Accuracy – Performs well on complex datasets.\n",
    "* Robust to Noise – Handles missing data and outliers well.\n",
    "* Works with Categorical & Numerical Features.\n",
    "\n",
    "❌ Weaknesses\n",
    "* Slow on Large Datasets – Many trees increase computation time.\n",
    "* Less Interpretable – Harder to understand than Logistic Regression.\n",
    "* Memory Intensive – Requires more RAM compared to simpler models."
   ]
  },
  {
   "cell_type": "code",
   "execution_count": 11,
   "metadata": {},
   "outputs": [
    {
     "name": "stderr",
     "output_type": "stream",
     "text": [
      "Successfully registered model 'sklearn-Random Forest-2025-03-02'.\n",
      "2025/03/02 14:56:43 INFO mlflow.store.model_registry.abstract_store: Waiting up to 300 seconds for model version to finish creation. Model name: sklearn-Random Forest-2025-03-02, version 1\n"
     ]
    },
    {
     "name": "stdout",
     "output_type": "stream",
     "text": [
      "🏃 View run Random Forest-2025-03-02 14:56:41.223507 at: http://localhost:8080/#/experiments/747560239450198032/runs/6d205337298b46b6bb385f2bf6d082ee\n",
      "🧪 View experiment at: http://localhost:8080/#/experiments/747560239450198032\n",
      "Classification Accuracy: 0.8068\n",
      "Classification Report:\n",
      "               precision    recall  f1-score   support\n",
      "\n",
      "           0       0.81      0.80      0.81      2204\n",
      "           1       0.80      0.81      0.81      2186\n",
      "\n",
      "    accuracy                           0.81      4390\n",
      "   macro avg       0.81      0.81      0.81      4390\n",
      "weighted avg       0.81      0.81      0.81      4390\n",
      "\n"
     ]
    },
    {
     "name": "stderr",
     "output_type": "stream",
     "text": [
      "Created version '1' of model 'sklearn-Random Forest-2025-03-02'.\n"
     ]
    }
   ],
   "source": [
    "model = train_basic_supervised_model(X_train, y_train, model_type='Random Forest')\n",
    "\n",
    "accuracy_score, report = evaluate_model(\"Binary classification [Normal, Others] for images without masks\", model, X_test, y_test, model_type='Random Forest')\n",
    "\n",
    "print(f\"Classification Accuracy: {accuracy_score:.4f}\")\n",
    "print(\"Classification Report:\\n\", report)"
   ]
  }
 ],
 "metadata": {
  "kernelspec": {
   "display_name": "ds_covid19",
   "language": "python",
   "name": "ds_covid19"
  },
  "language_info": {
   "codemirror_mode": {
    "name": "ipython",
    "version": 3
   },
   "file_extension": ".py",
   "mimetype": "text/x-python",
   "name": "python",
   "nbconvert_exporter": "python",
   "pygments_lexer": "ipython3",
   "version": "3.12.8"
  }
 },
 "nbformat": 4,
 "nbformat_minor": 2
}
