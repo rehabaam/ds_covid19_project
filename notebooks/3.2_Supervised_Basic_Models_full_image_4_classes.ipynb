{
 "cells": [
  {
   "cell_type": "markdown",
   "metadata": {},
   "source": [
    "## Supervised models\n",
    "This notebook is intended for giving an introduction the ML supervised models that can be used for Covid detection."
   ]
  },
  {
   "cell_type": "markdown",
   "metadata": {},
   "source": [
    "For this notebook to find the new modules created for this project, we need to set its path to be in the root directory."
   ]
  },
  {
   "cell_type": "code",
   "execution_count": 1,
   "metadata": {},
   "outputs": [],
   "source": [
    "# Auto reload modules\n",
    "%load_ext autoreload\n",
    "%autoreload 2"
   ]
  },
  {
   "cell_type": "code",
   "execution_count": 2,
   "metadata": {},
   "outputs": [],
   "source": [
    "import sys\n",
    "sys.path.append(\"../\")"
   ]
  },
  {
   "cell_type": "markdown",
   "metadata": {},
   "source": [
    "<img src=\"../images/Supervised_Models.png\" width=\"800\"/>"
   ]
  },
  {
   "cell_type": "markdown",
   "metadata": {},
   "source": [
    "## Loading packages and dependencies"
   ]
  },
  {
   "cell_type": "code",
   "execution_count": 3,
   "metadata": {},
   "outputs": [],
   "source": [
    "import numpy as np\n",
    "\n",
    "from src.features.extract_features import load_extracted_features\n",
    "from sklearn.model_selection import train_test_split\n",
    "from sklearn.preprocessing import StandardScaler\n",
    "from src.models.build_model import train_basic_supervised_model, evaluate_model\n",
    "\n",
    "\n",
    "# Path to the raw data and preprocessed data\n",
    "raw_data_dir = '../data/raw/COVID-19_Radiography_Dataset/'"
   ]
  },
  {
   "cell_type": "markdown",
   "metadata": {},
   "source": [
    "## Extracting features from images"
   ]
  },
  {
   "cell_type": "code",
   "execution_count": 4,
   "metadata": {},
   "outputs": [
    {
     "name": "stdout",
     "output_type": "stream",
     "text": [
      "Loaded images for NORMAL: 10192 resized images, 10192 features, and 10192 labels.\n",
      "Loaded images for COVID: 10192 resized images, 10192 features, and 10192 labels.\n",
      "Loaded images for Viral Pneumonia: 10192 resized images, 10192 features, and 10192 labels.\n",
      "Loaded images for Lung_Opacity: 10192 resized images, 10192 features, and 10192 labels.\n"
     ]
    }
   ],
   "source": [
    "X_normal, y_normal, _ = load_extracted_features(images_dir=raw_data_dir+'{}/images',\n",
    "                                                    category='NORMAL', dataset_label=0)\n",
    "X_covid, y_covid, _ = load_extracted_features(images_dir=raw_data_dir+'{}/images',\n",
    "                                                    category='COVID', dataset_label=1, random_seed=42, samples=6576, augmentor=True) \n",
    "X_pneumonia, y_pneumonia, _ = load_extracted_features(images_dir=raw_data_dir+'{}/images',\n",
    "                                                    category='Viral Pneumonia', dataset_label=2, random_seed=42, samples=8847, augmentor=True) \n",
    "X_opacity, y_opacity, _ = load_extracted_features(images_dir=raw_data_dir+'{}/images',\n",
    "                                                    category='Lung_Opacity', dataset_label=3, random_seed=42, samples=4180, augmentor=True) "
   ]
  },
  {
   "cell_type": "markdown",
   "metadata": {},
   "source": [
    "## Normalizing features"
   ]
  },
  {
   "cell_type": "code",
   "execution_count": 5,
   "metadata": {},
   "outputs": [
    {
     "name": "stdout",
     "output_type": "stream",
     "text": [
      "X_train shape: (32614, 14), y_train shape: (32614,)\n",
      "X_test shape: (8154, 14), y_test shape: (8154,)\n"
     ]
    }
   ],
   "source": [
    "# Combine datasets\n",
    "X = np.vstack((X_normal, X_covid, X_pneumonia, X_opacity))\n",
    "y = np.concatenate((y_normal, y_covid, y_pneumonia, y_opacity))\n",
    "\n",
    "X_train, X_test, y_train, y_test = train_test_split(X, y, test_size=0.2, random_state=42)\n",
    "print(f\"X_train shape: {X_train.shape}, y_train shape: {y_train.shape}\")\n",
    "print(f\"X_test shape: {X_test.shape}, y_test shape: {y_test.shape}\")\n",
    "\n",
    "# Normalize features\n",
    "scaler = StandardScaler()\n",
    "X_train = scaler.fit_transform(X_train)\n",
    "X_test = scaler.transform(X_test)"
   ]
  },
  {
   "cell_type": "markdown",
   "metadata": {},
   "source": [
    "## Training and evaluating models"
   ]
  },
  {
   "cell_type": "markdown",
   "metadata": {},
   "source": [
    "### Logistic regression"
   ]
  },
  {
   "cell_type": "markdown",
   "metadata": {},
   "source": [
    "✅ Strengths:\n",
    "* Simple, fast, and interpretable.\n",
    "* Works well when features are linearly separable.\n",
    "\n",
    "❌ Weaknesses:\n",
    "* Struggles with complex, non-linear relationships.\n",
    "* Sensitive to outliers."
   ]
  },
  {
   "cell_type": "markdown",
   "metadata": {},
   "source": [
    "Using GridSearchCV, the tuned hyperparameters based on the features used in this notebook are:\n",
    "\n",
    "{'C': 0.1, 'class_weight': None, 'max_iter': 100, 'penalty': 'l1', 'solver': 'liblinear'}"
   ]
  },
  {
   "cell_type": "code",
   "execution_count": 6,
   "metadata": {},
   "outputs": [
    {
     "name": "stderr",
     "output_type": "stream",
     "text": [
      "Registered model 'sklearn-Logistic Regression-2025-03-08' already exists. Creating a new version of this model...\n",
      "2025/03/08 15:56:05 INFO mlflow.store.model_registry.abstract_store: Waiting up to 300 seconds for model version to finish creation. Model name: sklearn-Logistic Regression-2025-03-08, version 2\n"
     ]
    },
    {
     "name": "stdout",
     "output_type": "stream",
     "text": [
      "🏃 View run Logistic Regression-2025-03-08 15:56:00.952831 at: http://localhost:8080/#/experiments/747560239450198032/runs/0647b5a66934420ebfa104b5c2007555\n",
      "🧪 View experiment at: http://localhost:8080/#/experiments/747560239450198032\n",
      "Classification Accuracy: 0.6202\n",
      "Classification Report:\n",
      "               precision    recall  f1-score   support\n",
      "\n",
      "           0       0.61      0.66      0.63      2073\n",
      "           1       0.59      0.51      0.55      1998\n",
      "           2       0.67      0.70      0.69      2056\n",
      "           3       0.60      0.62      0.61      2027\n",
      "\n",
      "    accuracy                           0.62      8154\n",
      "   macro avg       0.62      0.62      0.62      8154\n",
      "weighted avg       0.62      0.62      0.62      8154\n",
      "\n"
     ]
    },
    {
     "name": "stderr",
     "output_type": "stream",
     "text": [
      "Created version '2' of model 'sklearn-Logistic Regression-2025-03-08'.\n"
     ]
    }
   ],
   "source": [
    "model = train_basic_supervised_model(X_train, y_train, model_type='Logistic Regression')\n",
    "\n",
    "accuracy_score, report = evaluate_model(\"Multi-label classification [Normal, COVID, Viral Pneumonia, Lung_Opacity] for images without masks\", model, X_test, y_test, model_type='Logistic Regression')\n",
    "\n",
    "print(f\"Classification Accuracy: {accuracy_score:.4f}\")\n",
    "print(\"Classification Report:\\n\", report)"
   ]
  },
  {
   "cell_type": "markdown",
   "metadata": {},
   "source": [
    "### SVM"
   ]
  },
  {
   "cell_type": "markdown",
   "metadata": {},
   "source": [
    "✅ Strengths:\n",
    "\n",
    "* Works well on high-dimensional data.\n",
    "* Effective on small datasets.\n",
    "* Handles outliers better than logistic regression.\n",
    "\n",
    "❌ Weaknesses:\n",
    "\n",
    "* Slow on large datasets (especially with RBF kernel).\n",
    "* Sensitive to hyperparameters (C, γ, degree).\n",
    "* Difficult to interpret compared to logistic regression."
   ]
  },
  {
   "cell_type": "markdown",
   "metadata": {},
   "source": [
    "#### RBF kernel"
   ]
  },
  {
   "cell_type": "code",
   "execution_count": 7,
   "metadata": {},
   "outputs": [
    {
     "name": "stderr",
     "output_type": "stream",
     "text": [
      "Successfully registered model 'sklearn-SVM RBF-2025-03-08'.\n",
      "2025/03/08 15:56:30 INFO mlflow.store.model_registry.abstract_store: Waiting up to 300 seconds for model version to finish creation. Model name: sklearn-SVM RBF-2025-03-08, version 1\n"
     ]
    },
    {
     "name": "stdout",
     "output_type": "stream",
     "text": [
      "🏃 View run SVM RBF-2025-03-08 15:56:22.028763 at: http://localhost:8080/#/experiments/747560239450198032/runs/acc9add0d33c4705a46c6585882f060b\n",
      "🧪 View experiment at: http://localhost:8080/#/experiments/747560239450198032\n",
      "Classification Accuracy: 0.7563\n",
      "Classification Report:\n",
      "               precision    recall  f1-score   support\n",
      "\n",
      "           0       0.74      0.76      0.75      2073\n",
      "           1       0.74      0.71      0.73      1998\n",
      "           2       0.82      0.84      0.83      2056\n",
      "           3       0.72      0.71      0.71      2027\n",
      "\n",
      "    accuracy                           0.76      8154\n",
      "   macro avg       0.76      0.76      0.76      8154\n",
      "weighted avg       0.76      0.76      0.76      8154\n",
      "\n"
     ]
    },
    {
     "name": "stderr",
     "output_type": "stream",
     "text": [
      "Created version '1' of model 'sklearn-SVM RBF-2025-03-08'.\n"
     ]
    }
   ],
   "source": [
    "model = train_basic_supervised_model(X_train, y_train, model_type='SVM RBF')\n",
    "\n",
    "accuracy_score, report = evaluate_model(\"Multi-label classification [Normal, COVID, Viral Pneumonia, Lung_Opacity] for images without masks\", model, X_test, y_test, model_type='SVM RBF')\n",
    "\n",
    "print(f\"Classification Accuracy: {accuracy_score:.4f}\")\n",
    "print(\"Classification Report:\\n\", report)"
   ]
  },
  {
   "cell_type": "markdown",
   "metadata": {},
   "source": [
    "#### Linear kernel"
   ]
  },
  {
   "cell_type": "code",
   "execution_count": 8,
   "metadata": {},
   "outputs": [
    {
     "name": "stderr",
     "output_type": "stream",
     "text": [
      "Successfully registered model 'sklearn-SVM Linear-2025-03-08'.\n",
      "2025/03/08 15:58:02 INFO mlflow.store.model_registry.abstract_store: Waiting up to 300 seconds for model version to finish creation. Model name: sklearn-SVM Linear-2025-03-08, version 1\n"
     ]
    },
    {
     "name": "stdout",
     "output_type": "stream",
     "text": [
      "🏃 View run SVM Linear-2025-03-08 15:57:57.917372 at: http://localhost:8080/#/experiments/747560239450198032/runs/8b1dbf5db5d34a668008193700cf6ee2\n",
      "🧪 View experiment at: http://localhost:8080/#/experiments/747560239450198032\n",
      "Classification Accuracy: 0.6310\n",
      "Classification Report:\n",
      "               precision    recall  f1-score   support\n",
      "\n",
      "           0       0.62      0.66      0.64      2073\n",
      "           1       0.60      0.54      0.57      1998\n",
      "           2       0.68      0.70      0.69      2056\n",
      "           3       0.62      0.61      0.61      2027\n",
      "\n",
      "    accuracy                           0.63      8154\n",
      "   macro avg       0.63      0.63      0.63      8154\n",
      "weighted avg       0.63      0.63      0.63      8154\n",
      "\n"
     ]
    },
    {
     "name": "stderr",
     "output_type": "stream",
     "text": [
      "Created version '1' of model 'sklearn-SVM Linear-2025-03-08'.\n"
     ]
    }
   ],
   "source": [
    "model = train_basic_supervised_model(X_train, y_train, model_type='SVM Linear')\n",
    "\n",
    "accuracy_score, report = evaluate_model(\"Multi-label classification [Normal, COVID, Viral Pneumonia, Lung_Opacity] for images without masks\", model, X_test, y_test, model_type='SVM Linear')\n",
    "\n",
    "print(f\"Classification Accuracy: {accuracy_score:.4f}\")\n",
    "print(\"Classification Report:\\n\", report)"
   ]
  },
  {
   "cell_type": "markdown",
   "metadata": {},
   "source": [
    "### Random Forest"
   ]
  },
  {
   "cell_type": "markdown",
   "metadata": {},
   "source": [
    "✅ Strengths\n",
    "* High Accuracy – Performs well on complex datasets.\n",
    "* Robust to Noise – Handles missing data and outliers well.\n",
    "* Works with Categorical & Numerical Features.\n",
    "\n",
    "❌ Weaknesses\n",
    "* Slow on Large Datasets – Many trees increase computation time.\n",
    "* Less Interpretable – Harder to understand than Logistic Regression.\n",
    "* Memory Intensive – Requires more RAM compared to simpler models."
   ]
  },
  {
   "cell_type": "markdown",
   "metadata": {},
   "source": [
    "Using GridSearchCV, the tuned hyperparameters based on the features used in this notebook are:\n",
    "\n",
    "{'class_weight': None, 'max_depth': 20, 'max_features': 'sqrt', 'min_samples_leaf': 1, 'min_samples_split': 2, 'n_estimators': 500}"
   ]
  },
  {
   "cell_type": "code",
   "execution_count": 10,
   "metadata": {},
   "outputs": [
    {
     "name": "stderr",
     "output_type": "stream",
     "text": [
      "Successfully registered model 'sklearn-Random Forest-2025-03-08'.\n",
      "2025/03/08 15:58:43 INFO mlflow.store.model_registry.abstract_store: Waiting up to 300 seconds for model version to finish creation. Model name: sklearn-Random Forest-2025-03-08, version 1\n"
     ]
    },
    {
     "name": "stdout",
     "output_type": "stream",
     "text": [
      "🏃 View run Random Forest-2025-03-08 15:58:39.199318 at: http://localhost:8080/#/experiments/747560239450198032/runs/c48e4e51a769426480ac8da8dd31e77c\n",
      "🧪 View experiment at: http://localhost:8080/#/experiments/747560239450198032\n",
      "Classification Accuracy: 0.7546\n",
      "Classification Report:\n",
      "               precision    recall  f1-score   support\n",
      "\n",
      "           0       0.74      0.75      0.75      2073\n",
      "           1       0.75      0.74      0.75      1998\n",
      "           2       0.82      0.84      0.83      2056\n",
      "           3       0.70      0.69      0.70      2027\n",
      "\n",
      "    accuracy                           0.75      8154\n",
      "   macro avg       0.75      0.75      0.75      8154\n",
      "weighted avg       0.75      0.75      0.75      8154\n",
      "\n"
     ]
    },
    {
     "name": "stderr",
     "output_type": "stream",
     "text": [
      "Created version '1' of model 'sklearn-Random Forest-2025-03-08'.\n"
     ]
    }
   ],
   "source": [
    "model = train_basic_supervised_model(X_train, y_train, model_type='Random Forest')\n",
    "\n",
    "accuracy_score, report = evaluate_model(\"Multi-label classification [Normal, COVID, Viral Pneumonia, Lung_Opacity] for images without masks\", model, X_test, y_test, model_type='Random Forest')\n",
    "\n",
    "print(f\"Classification Accuracy: {accuracy_score:.4f}\")\n",
    "print(\"Classification Report:\\n\", report)"
   ]
  },
  {
   "cell_type": "markdown",
   "metadata": {},
   "source": [
    "### Catboost"
   ]
  },
  {
   "cell_type": "markdown",
   "metadata": {},
   "source": [
    "✅ Strengths\n",
    "* Handles categorical features natively (no need for one-hot encoding).\n",
    "* Great for imbalanced data (built-in loss functions).\n",
    "* Avoids overfitting using ordered boosting.\n",
    "* Faster training than XGBoost & LightGBM.\n",
    "* Works well with small datasets (better than deep learning in low-data settings).\n",
    "* Automatically handles missing values.\n",
    "* Requires minimal hyperparameter tuning.\n",
    "\n",
    "❌ Weaknesses\n",
    "* Slower inference than LightGBM (not ideal for real-time applications).\n",
    "* Higher memory usage (uses more RAM than XGBoost).\n",
    "* Smaller community support (troubleshooting is harder than XGBoost).\n",
    "* Limited GPU acceleration (only supports specific settings).\n",
    "* Not the best for highly sparse data (LightGBM may be better)."
   ]
  },
  {
   "cell_type": "code",
   "execution_count": 12,
   "metadata": {},
   "outputs": [
    {
     "name": "stdout",
     "output_type": "stream",
     "text": [
      "0:\tlearn: 1.3577824\ttotal: 64.2ms\tremaining: 32s\n",
      "100:\tlearn: 0.8310135\ttotal: 384ms\tremaining: 1.52s\n",
      "200:\tlearn: 0.7399226\ttotal: 707ms\tremaining: 1.05s\n",
      "300:\tlearn: 0.6881848\ttotal: 1.03s\tremaining: 683ms\n",
      "400:\tlearn: 0.6484206\ttotal: 1.35s\tremaining: 334ms\n",
      "499:\tlearn: 0.6210390\ttotal: 1.67s\tremaining: 0us\n"
     ]
    },
    {
     "name": "stderr",
     "output_type": "stream",
     "text": [
      "Successfully registered model 'sklearn-CatBoost-2025-03-08'.\n",
      "2025/03/08 16:02:34 INFO mlflow.store.model_registry.abstract_store: Waiting up to 300 seconds for model version to finish creation. Model name: sklearn-CatBoost-2025-03-08, version 1\n"
     ]
    },
    {
     "name": "stdout",
     "output_type": "stream",
     "text": [
      "🏃 View run CatBoost-2025-03-08 16:02:31.653633 at: http://localhost:8080/#/experiments/747560239450198032/runs/b62afd53df464cebabc362b02356b0e9\n",
      "🧪 View experiment at: http://localhost:8080/#/experiments/747560239450198032\n",
      "Classification Accuracy: 0.7350\n",
      "Classification Report:\n",
      "               precision    recall  f1-score   support\n",
      "\n",
      "           0       0.72      0.74      0.73      2073\n",
      "           1       0.73      0.69      0.71      1998\n",
      "           2       0.80      0.82      0.81      2056\n",
      "           3       0.68      0.68      0.68      2027\n",
      "\n",
      "    accuracy                           0.73      8154\n",
      "   macro avg       0.73      0.73      0.73      8154\n",
      "weighted avg       0.73      0.73      0.73      8154\n",
      "\n"
     ]
    },
    {
     "name": "stderr",
     "output_type": "stream",
     "text": [
      "Created version '1' of model 'sklearn-CatBoost-2025-03-08'.\n"
     ]
    }
   ],
   "source": [
    "model = train_basic_supervised_model(X_train, y_train, model_type='CatBoost_Multi')\n",
    "\n",
    "accuracy_score, report = evaluate_model(\"Multi-label classification [Normal, COVID, Viral Pneumonia, Lung_Opacity] for images without masks\", model, X_test, y_test, model_type='CatBoost')\n",
    "\n",
    "print(f\"Classification Accuracy: {accuracy_score:.4f}\")\n",
    "print(\"Classification Report:\\n\", report)"
   ]
  }
 ],
 "metadata": {
  "kernelspec": {
   "display_name": ".ds_covid19",
   "language": "python",
   "name": "python3"
  },
  "language_info": {
   "codemirror_mode": {
    "name": "ipython",
    "version": 3
   },
   "file_extension": ".py",
   "mimetype": "text/x-python",
   "name": "python",
   "nbconvert_exporter": "python",
   "pygments_lexer": "ipython3",
   "version": "3.12.8"
  }
 },
 "nbformat": 4,
 "nbformat_minor": 2
}
