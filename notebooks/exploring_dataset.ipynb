{
 "cells": [
  {
   "cell_type": "markdown",
   "metadata": {},
   "source": [
    "# Exploring dataset\n",
    "This notebook is intended for exploring the dataset (images and metadata)."
   ]
  },
  {
   "cell_type": "markdown",
   "metadata": {},
   "source": [
    "For this notebook to find the new modules created for this project, we need to set its path to be in the root directory."
   ]
  },
  {
   "cell_type": "code",
   "execution_count": 4,
   "metadata": {},
   "outputs": [],
   "source": [
    "import sys\n",
    "sys.path.append(\"../\")"
   ]
  },
  {
   "cell_type": "code",
   "execution_count": null,
   "metadata": {},
   "outputs": [],
   "source": [
    "from src.preprocessing.image_preprocessor import process_all_images_in_directory\n",
    "\n",
    "process_all_images_in_directory('../../COVID-19_Radiography_Dataset/COVID/images')"
   ]
  },
  {
   "cell_type": "code",
   "execution_count": 6,
   "metadata": {},
   "outputs": [],
   "source": [
    "import pandas as pd\n",
    "covid = pd.read_csv('../data/raw/covid_metadata.csv')"
   ]
  },
  {
   "cell_type": "code",
   "execution_count": 7,
   "metadata": {},
   "outputs": [
    {
     "data": {
      "text/plain": [
       "array(['https://sirm.org/category/senza-categoria/covid-19/',\n",
       "       'https://github.com/ml-workgroup/covid-19-image-repository/tree/master/png',\n",
       "       'https://eurorad.org', 'https://github.com/armiro/COVID-CXNet',\n",
       "       'https://github.com/ieee8023/covid-chestxray-dataset',\n",
       "       'https://bimcv.cipf.es/bimcv-projects/bimcv-covid19/#1590858128006-9e640421-6711'],\n",
       "      dtype=object)"
      ]
     },
     "metadata": {},
     "output_type": "display_data"
    },
    {
     "name": "stdout",
     "output_type": "stream",
     "text": [
      "Number of sources of covid iamges: 6\n"
     ]
    }
   ],
   "source": [
    "display(covid.URL.unique())\n",
    "print('Number of sources of covid iamges:',len(covid.URL.unique()))"
   ]
  }
 ],
 "metadata": {
  "kernelspec": {
   "display_name": ".ds_covid19",
   "language": "python",
   "name": "python3"
  },
  "language_info": {
   "codemirror_mode": {
    "name": "ipython",
    "version": 3
   },
   "file_extension": ".py",
   "mimetype": "text/x-python",
   "name": "python",
   "nbconvert_exporter": "python",
   "pygments_lexer": "ipython3",
   "version": "3.9.6"
  }
 },
 "nbformat": 4,
 "nbformat_minor": 2
}
